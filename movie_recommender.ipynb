{
  "nbformat": 4,
  "nbformat_minor": 0,
  "metadata": {
    "colab": {
      "provenance": [],
      "authorship_tag": "ABX9TyNYPp5nD8RZkMVhO0y2WB0G",
      "include_colab_link": true
    },
    "kernelspec": {
      "name": "python3",
      "display_name": "Python 3"
    },
    "language_info": {
      "name": "python"
    }
  },
  "cells": [
    {
      "cell_type": "markdown",
      "metadata": {
        "id": "view-in-github",
        "colab_type": "text"
      },
      "source": [
        "<a href=\"https://colab.research.google.com/github/Astenik/svd_applications/blob/main/movie_recommender.ipynb\" target=\"_parent\"><img src=\"https://colab.research.google.com/assets/colab-badge.svg\" alt=\"Open In Colab\"/></a>"
      ]
    },
    {
      "cell_type": "code",
      "source": [
        "!pip install numpy==1.24.4 scipy==1.10.1\n",
        "!pip install scikit-surprise --no-binary scikit-surprise"
      ],
      "metadata": {
        "colab": {
          "base_uri": "https://localhost:8080/"
        },
        "id": "bwP5xfOtgpSy",
        "outputId": "fa4520cb-286a-440e-f175-b88288302512"
      },
      "execution_count": null,
      "outputs": [
        {
          "output_type": "stream",
          "name": "stdout",
          "text": [
            "Requirement already satisfied: numpy==1.24.4 in /usr/local/lib/python3.11/dist-packages (1.24.4)\n",
            "Requirement already satisfied: scipy==1.10.1 in /usr/local/lib/python3.11/dist-packages (1.10.1)\n",
            "Collecting scikit-surprise\n",
            "  Using cached scikit_surprise-1.1.4.tar.gz (154 kB)\n",
            "  Installing build dependencies ... \u001b[?25l\u001b[?25hdone\n",
            "  Getting requirements to build wheel ... \u001b[?25l\u001b[?25hdone\n",
            "  Preparing metadata (pyproject.toml) ... \u001b[?25l\u001b[?25hdone\n",
            "Requirement already satisfied: joblib>=1.2.0 in /usr/local/lib/python3.11/dist-packages (from scikit-surprise) (1.5.1)\n",
            "Requirement already satisfied: numpy>=1.19.5 in /usr/local/lib/python3.11/dist-packages (from scikit-surprise) (1.24.4)\n",
            "Requirement already satisfied: scipy>=1.6.0 in /usr/local/lib/python3.11/dist-packages (from scikit-surprise) (1.10.1)\n",
            "Building wheels for collected packages: scikit-surprise\n",
            "  Building wheel for scikit-surprise (pyproject.toml) ... \u001b[?25l\u001b[?25hdone\n",
            "  Created wheel for scikit-surprise: filename=scikit_surprise-1.1.4-cp311-cp311-linux_x86_64.whl size=2469550 sha256=a3cd3b7cbba9e4048093fdd7234cda1525e44108005426672c1f73a7d4bbc687\n",
            "  Stored in directory: /root/.cache/pip/wheels/2a/8f/6e/7e2899163e2d85d8266daab4aa1cdabec7a6c56f83c015b5af\n",
            "Successfully built scikit-surprise\n",
            "Installing collected packages: scikit-surprise\n",
            "Successfully installed scikit-surprise-1.1.4\n"
          ]
        }
      ]
    },
    {
      "cell_type": "code",
      "source": [
        "from google.colab import files\n",
        "import requests\n",
        "from surprise.model_selection import cross_validate\n",
        "import json\n",
        "import os\n",
        "from surprise import Dataset, Reader, SVD, accuracy\n",
        "import pandas as pd\n",
        "from surprise.model_selection import train_test_split\n",
        "import random\n",
        "import time\n",
        "\n",
        "!wget https://files.grouplens.org/datasets/movielens/ml-latest-small.zip\n",
        "!unzip ml-latest-small.zip"
      ],
      "metadata": {
        "colab": {
          "base_uri": "https://localhost:8080/"
        },
        "id": "TyXr3-sghZnI",
        "outputId": "423f4664-af2d-4181-c3cd-b6284be83248"
      },
      "execution_count": null,
      "outputs": [
        {
          "output_type": "stream",
          "name": "stdout",
          "text": [
            "--2025-07-29 14:11:12--  https://files.grouplens.org/datasets/movielens/ml-latest-small.zip\n",
            "Resolving files.grouplens.org (files.grouplens.org)... 128.101.65.152\n",
            "Connecting to files.grouplens.org (files.grouplens.org)|128.101.65.152|:443... connected.\n",
            "HTTP request sent, awaiting response... 200 OK\n",
            "Length: 978202 (955K) [application/zip]\n",
            "Saving to: ‘ml-latest-small.zip’\n",
            "\n",
            "ml-latest-small.zip 100%[===================>] 955.28K  4.27MB/s    in 0.2s    \n",
            "\n",
            "2025-07-29 14:11:12 (4.27 MB/s) - ‘ml-latest-small.zip’ saved [978202/978202]\n",
            "\n",
            "Archive:  ml-latest-small.zip\n",
            "   creating: ml-latest-small/\n",
            "  inflating: ml-latest-small/links.csv  \n",
            "  inflating: ml-latest-small/tags.csv  \n",
            "  inflating: ml-latest-small/ratings.csv  \n",
            "  inflating: ml-latest-small/README.txt  \n",
            "  inflating: ml-latest-small/movies.csv  \n"
          ]
        }
      ]
    },
    {
      "cell_type": "code",
      "source": [
        "code = '''import pandas as pd\n",
        "import random\n",
        "import time\n",
        "import os\n",
        "from surprise import Dataset, Reader, SVD\n",
        "\n",
        "# ✅ Հայկական ֆիլմերի ստատիկ ցուցակ\n",
        "ARMENIAN_MOVIES = [\n",
        "    (100001, \"Երկունք (1991)\", \"Drama\"),\n",
        "    (100002, \"Հին օրերի երգը (1982)\", \"Drama|History\"),\n",
        "    (100003, \"Նռան գույնը (1984)\", \"Art|Drama\"),\n",
        "    (100004, \"Մենք ենք, մեր սարերը (1969)\", \"Drama|Comedy\"),\n",
        "    (100005, \"Տղամարդիկ (1972)\", \"Comedy\"),\n",
        "    (100006, \"Կտոր մը երկինք (1980)\", \"Drama|Romance\"),\n",
        "    (100007, \"Սարոյան եղբայրներ (2008)\", \"Documentary\"),\n",
        "    (100008, \"Աղբյուրի մոտ (1970)\", \"Drama\"),\n",
        "    (100009, \"Գարեգին Նժդեհ (2013)\", \"War\"),\n",
        "    (100010, \"Եվա (2017)\", \"Drama\"),\n",
        "    (100011, \"Հարսնացուն հյուսիսից (1975)\", \"Comedy|Romance\"),\n",
        "    (100012, \"Մեր սրտի տնակը (2014)\", \"Drama\"),\n",
        "    (100013, \"Եռանկունի (1967)\", \"Drama\"),\n",
        "    (100014, \"Մայրիկ (1991)\", \"Drama\"),\n",
        "    (100015, \"Խոստումը (2016)\", \"Drama\")\n",
        "]\n",
        "\n",
        "def load_datasets(movielens_path=\"ml-latest-small\"):\n",
        "    \"\"\"\n",
        "    Բեռնում է Movielens և հայկական ֆիլմերի տվյալները։\n",
        "    Վերադարձնում է՝ all_movies_df, all_ratings_df\n",
        "    \"\"\"\n",
        "    armenian_movies_df = pd.DataFrame(ARMENIAN_MOVIES, columns=[\"movieId\", \"title\", \"genres\"])\n",
        "\n",
        "    # Արհեստական գնահատականներ 10 օգտատիրոջ համար\n",
        "    user_ids = list(range(1001, 1011))\n",
        "    ratings_data = []\n",
        "    for user_id in user_ids:\n",
        "        rated_movies = random.sample(armenian_movies_df[\"movieId\"].tolist(), k=random.randint(4, 8))\n",
        "        for movie_id in rated_movies:\n",
        "            rating = round(random.uniform(3.0, 5.0), 1)\n",
        "            timestamp = int(time.time())\n",
        "            ratings_data.append((user_id, movie_id, rating, timestamp))\n",
        "    armenian_ratings_df = pd.DataFrame(ratings_data, columns=[\"userId\", \"movieId\", \"rating\", \"timestamp\"])\n",
        "\n",
        "    # Movielens-ի բազայից ընթերցում\n",
        "    movies = pd.read_csv(os.path.join(movielens_path, \"movies.csv\"))\n",
        "    ratings = pd.read_csv(os.path.join(movielens_path, \"ratings.csv\"))\n",
        "\n",
        "    # Միավորում ենք հայկական և Movielens տվյալները\n",
        "    all_movies = pd.concat([movies, armenian_movies_df], ignore_index=True)\n",
        "    all_ratings = pd.concat([ratings, armenian_ratings_df], ignore_index=True)\n",
        "\n",
        "    return all_movies, all_ratings\n",
        "\n",
        "def train_model(ratings_df):\n",
        "    \"\"\"\n",
        "    Ստեղծում և մարզում է SVD մոդել՝ տրված գնահատականների վրա։\n",
        "    \"\"\"\n",
        "    reader = Reader(rating_scale=(0.5, 5.0))\n",
        "    data = Dataset.load_from_df(ratings_df[[\"userId\", \"movieId\", \"rating\"]], reader)\n",
        "    trainset = data.build_full_trainset()\n",
        "\n",
        "    model = SVD()\n",
        "    model.fit(trainset)\n",
        "\n",
        "    return model\n",
        "\n",
        "def get_movie_dict(movies_df):\n",
        "    \"\"\"\n",
        "    Վերադարձնում է {վերնագիր: movieId} բառարան։\n",
        "    \"\"\"\n",
        "    return dict(zip(movies_df[\"title\"], movies_df[\"movieId\"]))\n",
        "\n",
        "def add_new_movies(movies_df, user_inputs):\n",
        "    \"\"\"\n",
        "    Ստուգում է արդյոք նոր ֆիլմեր կան օգտագործողի մուտքածներում, և եթե կան՝ ավելացնում է movies_df-ում։\n",
        "    user_inputs = [(title, rating), ...]\n",
        "    \"\"\"\n",
        "    movie_title_to_id = get_movie_dict(movies_df)\n",
        "    new_entries = []\n",
        "    new_movie_id = movies_df[\"movieId\"].max() + 1\n",
        "\n",
        "    for title, _ in user_inputs:\n",
        "        if title not in movie_title_to_id:\n",
        "            genre = input(f\"Ֆիլմը '{title}' չկա բազայում։ Գրեք ժանրը (օր. 'Drama, Comedy'): \")\n",
        "            new_entries.append({\n",
        "                \"movieId\": new_movie_id,\n",
        "                \"title\": title,\n",
        "                \"genres\": genre.strip()\n",
        "            })\n",
        "            movie_title_to_id[title] = new_movie_id\n",
        "            new_movie_id += 1\n",
        "\n",
        "    if new_entries:\n",
        "        movies_df = pd.concat([movies_df, pd.DataFrame(new_entries)], ignore_index=True)\n",
        "\n",
        "    return movies_df, movie_title_to_id\n",
        "\n",
        "def prepare_new_ratings(user_inputs, movie_title_to_id, user_id=9999):\n",
        "    \"\"\"\n",
        "    Վերափոխում է [(title, rating)] → [(userId, movieId, rating)]\n",
        "    \"\"\"\n",
        "    new_ratings = []\n",
        "    for title, rating in user_inputs:\n",
        "        movie_id = movie_title_to_id[title]\n",
        "        new_ratings.append((user_id, movie_id, rating))\n",
        "    return pd.DataFrame(new_ratings, columns=[\"userId\", \"movieId\", \"rating\"])\n",
        "\n",
        "def get_recommendations(model, movies_df, watched_movie_ids, user_id=9999, top_n=10):\n",
        "    \"\"\"\n",
        "    Վերադարձնում է լավագույն առաջարկությունները։\n",
        "    \"\"\"\n",
        "    recommendations = []\n",
        "    for movie_id in movies_df[\"movieId\"].unique():\n",
        "        if movie_id not in watched_movie_ids:\n",
        "            pred = model.predict(user_id, movie_id)\n",
        "            title = movies_df[movies_df[\"movieId\"] == movie_id][\"title\"].values[0]\n",
        "            recommendations.append((title, pred.est))\n",
        "    recommendations.sort(key=lambda x: x[1], reverse=True)\n",
        "    return recommendations[:top_n]\n",
        "'''\n",
        "\n",
        "with open(\"recommender.py\", \"w\", encoding=\"utf-8\") as f:\n",
        "    f.write(code)\n",
        "\n",
        "print(\"✅ recommender.py ֆայլը հաջողությամբ ստեղծվեց։\")\n"
      ],
      "metadata": {
        "colab": {
          "base_uri": "https://localhost:8080/"
        },
        "id": "A33dqx27dzRa",
        "outputId": "9f887e8d-9a57-4c80-eb6c-1bfcb18fbf4f"
      },
      "execution_count": null,
      "outputs": [
        {
          "output_type": "stream",
          "name": "stdout",
          "text": [
            "✅ recommender.py ֆայլը հաջողությամբ ստեղծվեց։\n"
          ]
        }
      ]
    },
    {
      "cell_type": "code",
      "source": [
        "import recommender\n",
        "\n",
        "movies_df, ratings_df = recommender.load_datasets()\n",
        "print(\"Տվյալների բեռնման օրինակ՝\")\n",
        "print(movies_df.sample(5))\n",
        "import recommender\n",
        "\n",
        "movies_df, ratings_df = recommender.load_datasets()\n",
        "print(\"Տվյալների բեռնման օրինակ՝\")\n",
        "print(movies_df.sample(5))\n"
      ],
      "metadata": {
        "colab": {
          "base_uri": "https://localhost:8080/"
        },
        "id": "09s5CpKWf9HJ",
        "outputId": "5317a22a-c38a-4b6c-ac8a-113c6e00ede2"
      },
      "execution_count": null,
      "outputs": [
        {
          "output_type": "stream",
          "name": "stdout",
          "text": [
            "Տվյալների բեռնման օրինակ՝\n",
            "      movieId                    title  \\\n",
            "853      1124    On Golden Pond (1981)   \n",
            "7649    88235        Guard, The (2011)   \n",
            "7189    72424          Derailed (2002)   \n",
            "3477     4744  Jeepers Creepers (2001)   \n",
            "6358    49530     Blood Diamond (2006)   \n",
            "\n",
            "                                         genres  \n",
            "853                                       Drama  \n",
            "7649                               Comedy|Crime  \n",
            "7189                            Action|Thriller  \n",
            "3477                                     Horror  \n",
            "6358  Action|Adventure|Crime|Drama|Thriller|War  \n",
            "Տվյալների բեռնման օրինակ՝\n",
            "      movieId                                      title  \\\n",
            "6093    42013                         Ringer, The (2005)   \n",
            "2257     2995               House on Haunted Hill (1999)   \n",
            "2216     2944                    Dirty Dozen, The (1967)   \n",
            "4090     5847                             Ragtime (1981)   \n",
            "8053    98809  Hobbit: An Unexpected Journey, The (2012)   \n",
            "\n",
            "                      genres  \n",
            "6093                  Comedy  \n",
            "2257         Horror|Thriller  \n",
            "2216        Action|Drama|War  \n",
            "4090                   Drama  \n",
            "8053  Adventure|Fantasy|IMAX  \n"
          ]
        }
      ]
    },
    {
      "cell_type": "code",
      "source": [
        "user_inputs = []\n",
        "while True:\n",
        "    entry = input(\"> \")\n",
        "    if entry.strip() == \"\":\n",
        "        break\n",
        "    try:\n",
        "        title, rating = entry.rsplit(\",\", 1)\n",
        "        title = title.strip()\n",
        "        rating = float(rating.strip())\n",
        "        user_inputs.append((title, rating))\n",
        "    except Exception as e:\n",
        "        print(\"Սխալ մուտք. Օգտագործեք `Վերնագիր, գնահատական` ձևաչափը։\")\n",
        "\n",
        "# Եթե կա նոր ֆիլմ, ավելացրու բազային\n",
        "movies_df, movie_title_to_id = recommender.add_new_movies(movies_df, user_inputs)\n",
        "\n",
        "# Փոխակերպիր օգտագործողի մուտքերը userId, movieId, rating տիպի DataFrame\n",
        "new_ratings_df = recommender.prepare_new_ratings(user_inputs, movie_title_to_id, user_id=9999)\n",
        "\n",
        "# Միացրու ամբողջ գնահատականների DataFrame-ին\n",
        "full_ratings = pd.concat([ratings_df, new_ratings_df], ignore_index=True)\n",
        "\n",
        "# Սովորեցրու մոդելը ամբողջ տվյալների վրա\n",
        "model = recommender.train_model(full_ratings)\n",
        "\n",
        "# Հաշվիր դիտած ֆիլմերի movieId-ները\n",
        "watched_ids = [movie_title_to_id[title] for title, _ in user_inputs]\n",
        "\n",
        "# Ստացիր առաջարկությունները\n",
        "recommendations = recommender.get_recommendations(model, movies_df, watched_ids)\n",
        "\n",
        "print(\"🎬 Առաջարկվող ֆիլմեր՝\")\n",
        "for i, (title, score) in enumerate(recommendations, 1):\n",
        "    print(f\"{i}. {title} ({round(score, 2)})\")\n"
      ],
      "metadata": {
        "colab": {
          "base_uri": "https://localhost:8080/"
        },
        "id": "bqb-V0C1h1Wm",
        "outputId": "d72399d3-ac98-4a8e-e6ea-fc59c2bb816f"
      },
      "execution_count": null,
      "outputs": [
        {
          "output_type": "stream",
          "name": "stdout",
          "text": [
            "> Me Before you, 5\n",
            "> intersteller, 5\n",
            "> \n",
            "Ֆիլմը 'Me Before you' չկա բազայում։ Գրեք ժանրը (օր. 'Drama, Comedy'): Drama\n",
            "Ֆիլմը 'intersteller' չկա բազայում։ Գրեք ժանրը (օր. 'Drama, Comedy'): Sience fiction\n",
            "🎬 Առաջարկվող ֆիլմեր՝\n",
            "1. Dr. Strangelove or: How I Learned to Stop Worrying and Love the Bomb (1964) (4.83)\n",
            "2. Matrix, The (1999) (4.78)\n",
            "3. Godfather, The (1972) (4.72)\n",
            "4. One Flew Over the Cuckoo's Nest (1975) (4.7)\n",
            "5. Shawshank Redemption, The (1994) (4.69)\n",
            "6. Lawrence of Arabia (1962) (4.67)\n",
            "7. Rear Window (1954) (4.67)\n",
            "8. Godfather: Part II, The (1974) (4.67)\n",
            "9. Philadelphia Story, The (1940) (4.65)\n",
            "10. Usual Suspects, The (1995) (4.64)\n"
          ]
        }
      ]
    }
  ]
}